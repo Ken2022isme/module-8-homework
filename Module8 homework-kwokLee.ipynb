{
 "cells": [
  {
   "cell_type": "markdown",
   "metadata": {},
   "source": [
    "### Exercise 1\n",
    "Ask for an exam score and store that number. If the number is greater than 100, then print out 'You cannot have an exam score higher than 100'. If the number doesn't exceeed 100 but is greater than or equal to 75, then print out 'You did great on your exam!'. Otherwise if they scored lower than 75, then print out 'You need to study harder'."
   ]
  },
  {
   "cell_type": "code",
   "execution_count": 4,
   "metadata": {},
   "outputs": [
    {
     "name": "stdout",
     "output_type": "stream",
     "text": [
      "Please enter your exam score: 74\n",
      "You need to study harder\n"
     ]
    }
   ],
   "source": [
    "score=int(input(\"Please enter your exam score: \"))\n",
    "if score > 100:\n",
    "    print(\"You cannot have an exam score higher than 100\")\n",
    "elif score >=75:\n",
    "    print(\"You did great on your exam\")\n",
    "else:\n",
    "    print(\"You need to study harder\")\n",
    "\n"
   ]
  },
  {
   "cell_type": "code",
   "execution_count": null,
   "metadata": {},
   "outputs": [],
   "source": []
  },
  {
   "cell_type": "markdown",
   "metadata": {},
   "source": [
    "### Exercise 2\n",
    "Ask a user to enter two numbers and find their average. Then, print out the average and whether each number is below or above average. Determine if a function should be created or not.\n",
    "    "
   ]
  },
  {
   "cell_type": "code",
   "execution_count": 10,
   "metadata": {},
   "outputs": [
    {
     "name": "stdout",
     "output_type": "stream",
     "text": [
      "Please input a number: 9\n",
      "Please input another number: 18\n",
      "Average is 13.5, 9 is less than average and 18 is greater than average\n"
     ]
    }
   ],
   "source": [
    "num1=int(input(\"Please input a number: \"))\n",
    "num2=int(input(\"Please input another number: \"))\n",
    "average=(num1 + num2)/2\n",
    "if num1 > average:\n",
    "    print(f\"Average is {average}, {num1} is greater than average and {num2} is less than average\")\n",
    "else:\n",
    "    print(f\"Average is {average}, {num1} is less than average and {num2} is greater than average\")\n",
    "    "
   ]
  },
  {
   "cell_type": "code",
   "execution_count": null,
   "metadata": {},
   "outputs": [],
   "source": []
  },
  {
   "cell_type": "markdown",
   "metadata": {},
   "source": [
    "### Exercise 3\n",
    "Write a function to convert a test score to a grade where  \n",
    " - 90 - 100: A\n",
    " - 80 - 89:  B\n",
    " - 70 - 79:  C\n",
    " - 60 - 69:  D\n",
    " - < 60   :  F\n",
    " \n",
    "If a score is not between 0 and 100 then print out an error message. In the program, ask the user for a score and then call your function. "
   ]
  },
  {
   "cell_type": "code",
   "execution_count": 16,
   "metadata": {},
   "outputs": [],
   "source": [
    "def grade(score):\n",
    "    if score >=0 and score <=100:\n",
    "        if score >=90 and score <=100:\n",
    "            grade = 'Grade is A'\n",
    "        elif score >=80 and score <=89:\n",
    "            grade = 'Grade is B'\n",
    "        elif score >=70 and score <=79:\n",
    "            grade = 'Grade is C'\n",
    "        elif score >=60 and score <=69:\n",
    "            grade ='Grade is D'\n",
    "        else:\n",
    "            grade ='Grade is F'\n",
    "    else:\n",
    "        grade=\"Score must be between 0 and 100\"\n",
    "\n",
    "    return grade\n"
   ]
  },
  {
   "cell_type": "code",
   "execution_count": 20,
   "metadata": {},
   "outputs": [
    {
     "name": "stdout",
     "output_type": "stream",
     "text": [
      "Please enter your exam score: 79\n",
      "Grade is C\n"
     ]
    }
   ],
   "source": [
    "score = int(input(\"Please enter your exam score: \"))\n",
    "print(grade(score))\n",
    "\n"
   ]
  },
  {
   "cell_type": "code",
   "execution_count": null,
   "metadata": {},
   "outputs": [],
   "source": []
  },
  {
   "cell_type": "markdown",
   "metadata": {},
   "source": [
    "### Exercise 4\n",
    "Convert following decimal number to a binary number by hand:\n",
    "\n",
    "    61\n",
    "    15\n",
    "    71\n",
    "    "
   ]
  },
  {
   "cell_type": "code",
   "execution_count": null,
   "metadata": {},
   "outputs": [],
   "source": [
    "#Methodology: \n",
    "#Repeatedly divide the given number by two until the quotient is 1\n",
    "#write down the remainder of each step\n",
    "Binary of 61 is 111101\n",
    "Binary of 15 is 1111\n",
    "Binary of 71 is 1000111"
   ]
  },
  {
   "cell_type": "markdown",
   "metadata": {},
   "source": [
    "### Exercise 5\n",
    "When a = 61 and b = 15, what is the result of following bitwise opertion? Use inline comments to show your result in a binary number. Find your answer by hand.\n",
    "\n",
    "    a & b\n",
    "    a | b\n",
    "    a ^ b\n",
    "    a >> 2\n",
    "    "
   ]
  },
  {
   "cell_type": "code",
   "execution_count": null,
   "metadata": {},
   "outputs": [],
   "source": [
    "# 61 in binary is 111101\n",
    "# 15 in binary is 001111\n",
    "# a & b gives     001101"
   ]
  },
  {
   "cell_type": "code",
   "execution_count": null,
   "metadata": {},
   "outputs": [],
   "source": [
    "# 61 in binary is 111101\n",
    "# 15 in binary is 001111\n",
    "# a | b gives     111111"
   ]
  },
  {
   "cell_type": "code",
   "execution_count": null,
   "metadata": {},
   "outputs": [],
   "source": [
    "# 61 in binary is 111101\n",
    "# 15 in binary is 001111\n",
    "# a ^ b gives     110010"
   ]
  },
  {
   "cell_type": "code",
   "execution_count": null,
   "metadata": {},
   "outputs": [],
   "source": [
    "# 61 in binary is 111101\n",
    "# a >> 2 gives    001111"
   ]
  },
  {
   "cell_type": "code",
   "execution_count": null,
   "metadata": {},
   "outputs": [],
   "source": []
  }
 ],
 "metadata": {
  "kernelspec": {
   "display_name": "Python 3",
   "language": "python",
   "name": "python3"
  },
  "language_info": {
   "codemirror_mode": {
    "name": "ipython",
    "version": 3
   },
   "file_extension": ".py",
   "mimetype": "text/x-python",
   "name": "python",
   "nbconvert_exporter": "python",
   "pygments_lexer": "ipython3",
   "version": "3.7.6"
  }
 },
 "nbformat": 4,
 "nbformat_minor": 4
}
